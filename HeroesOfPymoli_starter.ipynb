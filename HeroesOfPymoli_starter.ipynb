{
 "cells": [
  {
   "cell_type": "markdown",
   "metadata": {},
   "source": [
    "### Note\n",
    "* Instructions have been included for each segment. You do not have to follow them exactly, but they are included to help you think through the steps."
   ]
  },
  {
   "cell_type": "code",
   "execution_count": 1,
   "metadata": {},
   "outputs": [],
   "source": [
    "# Dependencies and Setup\n",
    "import pandas as pd\n",
    "\n",
    "# File to Load (Remember to Change These)\n",
    "file_to_load = \"Resources/purchase_data.csv\"\n",
    "\n",
    "# Read Purchasing File and store into Pandas data frame\n",
    "purchase_data = pd.read_csv(file_to_load)"
   ]
  },
  {
   "cell_type": "markdown",
   "metadata": {},
   "source": [
    "## Player Count"
   ]
  },
  {
   "cell_type": "markdown",
   "metadata": {},
   "source": [
    "* Display the total number of players\n"
   ]
  },
  {
   "cell_type": "code",
   "execution_count": 2,
   "metadata": {},
   "outputs": [
    {
     "data": {
      "text/plain": [
       "'There are 576 total players.'"
      ]
     },
     "execution_count": 2,
     "metadata": {},
     "output_type": "execute_result"
    }
   ],
   "source": [
    "player_Count = len(purchase_data[\"SN\"].unique())\n",
    "\n",
    "f'There are {player_Count} total players.'"
   ]
  },
  {
   "cell_type": "markdown",
   "metadata": {},
   "source": [
    "## Purchasing Analysis (Total)"
   ]
  },
  {
   "cell_type": "markdown",
   "metadata": {},
   "source": [
    "* Run basic calculations to obtain number of unique items, average price, etc.\n",
    "\n",
    "\n",
    "* Create a summary data frame to hold the results\n",
    "\n",
    "\n",
    "* Optional: give the displayed data cleaner formatting\n",
    "\n",
    "\n",
    "* Display the summary data frame\n"
   ]
  },
  {
   "cell_type": "code",
   "execution_count": 3,
   "metadata": {
    "scrolled": true
   },
   "outputs": [
    {
     "data": {
      "text/html": [
       "<div>\n",
       "<style scoped>\n",
       "    .dataframe tbody tr th:only-of-type {\n",
       "        vertical-align: middle;\n",
       "    }\n",
       "\n",
       "    .dataframe tbody tr th {\n",
       "        vertical-align: top;\n",
       "    }\n",
       "\n",
       "    .dataframe thead th {\n",
       "        text-align: right;\n",
       "    }\n",
       "</style>\n",
       "<table border=\"1\" class=\"dataframe\">\n",
       "  <thead>\n",
       "    <tr style=\"text-align: right;\">\n",
       "      <th></th>\n",
       "      <th># of Unique Items</th>\n",
       "      <th>Average Price of all Items</th>\n",
       "      <th>Total Transactions</th>\n",
       "      <th>Total Revenue</th>\n",
       "    </tr>\n",
       "  </thead>\n",
       "  <tbody>\n",
       "    <tr>\n",
       "      <td>0</td>\n",
       "      <td>183</td>\n",
       "      <td>$3.05</td>\n",
       "      <td>780</td>\n",
       "      <td>$2379.77</td>\n",
       "    </tr>\n",
       "  </tbody>\n",
       "</table>\n",
       "</div>"
      ],
      "text/plain": [
       "   # of Unique Items Average Price of all Items  Total Transactions  \\\n",
       "0                183                      $3.05                 780   \n",
       "\n",
       "  Total Revenue  \n",
       "0      $2379.77  "
      ]
     },
     "execution_count": 3,
     "metadata": {},
     "output_type": "execute_result"
    }
   ],
   "source": [
    "item_count = len(purchase_data[\"Item ID\"].unique())\n",
    "avg_Price =  round(purchase_data[\"Price\"].mean(),2)\n",
    "total_Buy = purchase_data[\"Item ID\"].count()\n",
    "total_Rev = round(purchase_data[\"Price\"].sum(),2)\n",
    "\n",
    "purchase_summary = pd.DataFrame({\"# of Unique Items\" : [item_count],\n",
    "                                \"Average Price of all Items\" : \"$\" + '{:.2f}'.format(avg_Price),\n",
    "                                \"Total Transactions\" : total_Buy,\n",
    "                                \"Total Revenue\" : \"$\" + '{:.2f}'.format(total_Rev)})\n",
    "                               \n",
    "\n",
    "purchase_summary\n",
    "\n",
    "\n"
   ]
  },
  {
   "cell_type": "markdown",
   "metadata": {},
   "source": [
    "## Gender Demographics"
   ]
  },
  {
   "cell_type": "markdown",
   "metadata": {},
   "source": [
    "* Percentage and Count of Male Players\n",
    "\n",
    "\n",
    "* Percentage and Count of Female Players\n",
    "\n",
    "\n",
    "* Percentage and Count of Other / Non-Disclosed\n",
    "\n",
    "\n"
   ]
  },
  {
   "cell_type": "code",
   "execution_count": 4,
   "metadata": {},
   "outputs": [
    {
     "data": {
      "text/html": [
       "<div>\n",
       "<style scoped>\n",
       "    .dataframe tbody tr th:only-of-type {\n",
       "        vertical-align: middle;\n",
       "    }\n",
       "\n",
       "    .dataframe tbody tr th {\n",
       "        vertical-align: top;\n",
       "    }\n",
       "\n",
       "    .dataframe thead th {\n",
       "        text-align: right;\n",
       "    }\n",
       "</style>\n",
       "<table border=\"1\" class=\"dataframe\">\n",
       "  <thead>\n",
       "    <tr style=\"text-align: right;\">\n",
       "      <th></th>\n",
       "      <th>Male</th>\n",
       "      <th>Female</th>\n",
       "      <th>Other / Non-Disclosed</th>\n",
       "      <th>Total</th>\n",
       "    </tr>\n",
       "  </thead>\n",
       "  <tbody>\n",
       "    <tr>\n",
       "      <td>0</td>\n",
       "      <td>484</td>\n",
       "      <td>81</td>\n",
       "      <td>11</td>\n",
       "      <td>576</td>\n",
       "    </tr>\n",
       "    <tr>\n",
       "      <td>1</td>\n",
       "      <td>84.03%</td>\n",
       "      <td>14.06%</td>\n",
       "      <td>1.91%</td>\n",
       "      <td>100.0%</td>\n",
       "    </tr>\n",
       "  </tbody>\n",
       "</table>\n",
       "</div>"
      ],
      "text/plain": [
       "     Male  Female Other / Non-Disclosed   Total\n",
       "0     484      81                    11     576\n",
       "1  84.03%  14.06%                 1.91%  100.0%"
      ]
     },
     "execution_count": 4,
     "metadata": {},
     "output_type": "execute_result"
    }
   ],
   "source": [
    "male_df = pd.DataFrame(purchase_data.loc[purchase_data[\"Gender\"] == \"Male\"])\n",
    "\n",
    "female_df = pd.DataFrame(purchase_data.loc[purchase_data[\"Gender\"] == \"Female\"])\n",
    "\n",
    "other_df = pd.DataFrame(purchase_data.loc[purchase_data[\"Gender\"] == \"Other / Non-Disclosed\"])\n",
    "\n",
    "male_Count = len(male_df[\"SN\"].unique())\n",
    "\n",
    "female_Count = len(female_df[\"SN\"].unique())\n",
    "\n",
    "other_Count = len(other_df[\"SN\"].unique())\n",
    "\n",
    "total_Count = male_Count + female_Count + other_Count\n",
    "\n",
    "\n",
    "gender_summary = pd.DataFrame({\"Male\" : [male_Count,str(round(((male_Count / player_Count) * 100),2)) + '%'],\n",
    "                             \"Female\" : [female_Count,str(round(((female_Count / player_Count) * 100),2)) + '%'],\n",
    "                             \"Other / Non-Disclosed\" : [other_Count,str(round(((other_Count / player_Count) * 100),2)) + '%'],\n",
    "                              \"Total\" : [(male_Count + female_Count + other_Count),str(round(((male_Count + female_Count + other_Count)/player_Count)*100,2)) + '%']})\n",
    "\n",
    "gender_summary\n",
    "\n",
    "\n"
   ]
  },
  {
   "cell_type": "markdown",
   "metadata": {},
   "source": [
    "\n",
    "## Purchasing Analysis (Gender)"
   ]
  },
  {
   "cell_type": "markdown",
   "metadata": {},
   "source": [
    "* Run basic calculations to obtain purchase count, avg. purchase price, avg. purchase total per person etc. by gender\n",
    "\n",
    "\n",
    "\n",
    "\n",
    "* Create a summary data frame to hold the results\n",
    "\n",
    "\n",
    "* Optional: give the displayed data cleaner formatting\n",
    "\n",
    "\n",
    "* Display the summary data frame"
   ]
  },
  {
   "cell_type": "code",
   "execution_count": 5,
   "metadata": {},
   "outputs": [
    {
     "data": {
      "text/html": [
       "<div>\n",
       "<style scoped>\n",
       "    .dataframe tbody tr th:only-of-type {\n",
       "        vertical-align: middle;\n",
       "    }\n",
       "\n",
       "    .dataframe tbody tr th {\n",
       "        vertical-align: top;\n",
       "    }\n",
       "\n",
       "    .dataframe thead th {\n",
       "        text-align: right;\n",
       "    }\n",
       "</style>\n",
       "<table border=\"1\" class=\"dataframe\">\n",
       "  <thead>\n",
       "    <tr style=\"text-align: right;\">\n",
       "      <th></th>\n",
       "      <th>Gender</th>\n",
       "      <th>Male</th>\n",
       "      <th>Female</th>\n",
       "      <th>Other / Non-Disclosed</th>\n",
       "    </tr>\n",
       "  </thead>\n",
       "  <tbody>\n",
       "    <tr>\n",
       "      <td>0</td>\n",
       "      <td>Total Players</td>\n",
       "      <td>484</td>\n",
       "      <td>81</td>\n",
       "      <td>11</td>\n",
       "    </tr>\n",
       "    <tr>\n",
       "      <td>1</td>\n",
       "      <td>Average Price</td>\n",
       "      <td>$3.02</td>\n",
       "      <td>$3.20</td>\n",
       "      <td>$3.35</td>\n",
       "    </tr>\n",
       "    <tr>\n",
       "      <td>2</td>\n",
       "      <td>Total Transactions</td>\n",
       "      <td>652</td>\n",
       "      <td>113</td>\n",
       "      <td>15</td>\n",
       "    </tr>\n",
       "    <tr>\n",
       "      <td>3</td>\n",
       "      <td>Total Revenue</td>\n",
       "      <td>$1967.64</td>\n",
       "      <td>$361.94</td>\n",
       "      <td>$50.19</td>\n",
       "    </tr>\n",
       "    <tr>\n",
       "      <td>4</td>\n",
       "      <td>Average Purchase Total Per Person</td>\n",
       "      <td>$4.07</td>\n",
       "      <td>$4.47</td>\n",
       "      <td>$4.56</td>\n",
       "    </tr>\n",
       "  </tbody>\n",
       "</table>\n",
       "</div>"
      ],
      "text/plain": [
       "                              Gender      Male   Female Other / Non-Disclosed\n",
       "0                      Total Players       484       81                    11\n",
       "1                      Average Price     $3.02    $3.20                 $3.35\n",
       "2                 Total Transactions       652      113                    15\n",
       "3                      Total Revenue  $1967.64  $361.94                $50.19\n",
       "4  Average Purchase Total Per Person     $4.07    $4.47                 $4.56"
      ]
     },
     "execution_count": 5,
     "metadata": {},
     "output_type": "execute_result"
    }
   ],
   "source": [
    "male_count = len(male_df[\"SN\"].unique())\n",
    "male_Price =  round(male_df[\"Price\"].mean(),2)\n",
    "male_Buy = male_df[\"Item ID\"].count()\n",
    "male_Rev = round(male_df[\"Price\"].sum(),2)\n",
    "male_Price_Average = round(male_Rev/male_count,2)\n",
    "\n",
    "female_count = len(female_df[\"SN\"].unique())\n",
    "female_Price =  round(female_df[\"Price\"].mean(),2)\n",
    "female_Buy = female_df[\"Item ID\"].count()\n",
    "female_Rev = round(female_df[\"Price\"].sum(),2)\n",
    "female_Price_Average = round(female_Rev/female_count,2)\n",
    "\n",
    "other_count = len(other_df[\"SN\"].unique())\n",
    "other_Price =  round(other_df[\"Price\"].mean(),2)\n",
    "other_Buy = other_df[\"Item ID\"].count()\n",
    "other_Rev = round(other_df[\"Price\"].sum(),2)\n",
    "other_Price_Average = round(other_Rev/other_count,2)\n",
    "\n",
    "gender_transactions = pd.DataFrame({\"Gender\":[\"Total Players\",\"Average Price\",\"Total Transactions\",\"Total Revenue\",\"Average Purchase Total Per Person\"],\n",
    "                                \"Male\":[int(male_count),'$' + '{:.2f}'.format(male_Price),int(male_Buy),'$' + '{:.2f}'.format(male_Rev),'$' + '{:.2f}'.format(male_Price_Average)],\n",
    "                                   \"Female\":[int(female_count),'$' + '{:.2f}'.format(female_Price),int(female_Buy),'$' + '{:.2f}'.format(female_Rev),'$' + '{:.2f}'.format(female_Price_Average)],\n",
    "                                   \"Other / Non-Disclosed\":[int(other_count),'$' + '{:.2f}'.format(other_Price),int(other_Buy),'$' + '{:.2f}'.format(other_Rev),'$' + '{:.2f}'.format(other_Price_Average)]\n",
    "                                 })\n",
    "\n",
    "gender_transactions"
   ]
  },
  {
   "cell_type": "markdown",
   "metadata": {},
   "source": [
    "## Age Demographics"
   ]
  },
  {
   "cell_type": "markdown",
   "metadata": {},
   "source": [
    "* Establish bins for ages\n",
    "\n",
    "\n",
    "* Categorize the existing players using the age bins. Hint: use pd.cut()\n",
    "\n",
    "\n",
    "* Calculate the numbers and percentages by age group\n",
    "\n",
    "\n",
    "* Create a summary data frame to hold the results\n",
    "\n",
    "\n",
    "* Optional: round the percentage column to two decimal points\n",
    "\n",
    "\n",
    "* Display Age Demographics Table\n"
   ]
  },
  {
   "cell_type": "code",
   "execution_count": 6,
   "metadata": {},
   "outputs": [
    {
     "data": {
      "text/html": [
       "<div>\n",
       "<style scoped>\n",
       "    .dataframe tbody tr th:only-of-type {\n",
       "        vertical-align: middle;\n",
       "    }\n",
       "\n",
       "    .dataframe tbody tr th {\n",
       "        vertical-align: top;\n",
       "    }\n",
       "\n",
       "    .dataframe thead th {\n",
       "        text-align: right;\n",
       "    }\n",
       "</style>\n",
       "<table border=\"1\" class=\"dataframe\">\n",
       "  <thead>\n",
       "    <tr style=\"text-align: right;\">\n",
       "      <th></th>\n",
       "      <th>Age Group</th>\n",
       "      <th>Count of Players</th>\n",
       "      <th>Percent of Total Players</th>\n",
       "    </tr>\n",
       "  </thead>\n",
       "  <tbody>\n",
       "    <tr>\n",
       "      <td>0</td>\n",
       "      <td>&lt;10</td>\n",
       "      <td>17</td>\n",
       "      <td>2.95%</td>\n",
       "    </tr>\n",
       "    <tr>\n",
       "      <td>1</td>\n",
       "      <td>10-14</td>\n",
       "      <td>22</td>\n",
       "      <td>3.82%</td>\n",
       "    </tr>\n",
       "    <tr>\n",
       "      <td>2</td>\n",
       "      <td>15-19</td>\n",
       "      <td>107</td>\n",
       "      <td>18.58%</td>\n",
       "    </tr>\n",
       "    <tr>\n",
       "      <td>3</td>\n",
       "      <td>20-24</td>\n",
       "      <td>258</td>\n",
       "      <td>44.79%</td>\n",
       "    </tr>\n",
       "    <tr>\n",
       "      <td>4</td>\n",
       "      <td>25-29</td>\n",
       "      <td>77</td>\n",
       "      <td>13.37%</td>\n",
       "    </tr>\n",
       "    <tr>\n",
       "      <td>5</td>\n",
       "      <td>30-34</td>\n",
       "      <td>52</td>\n",
       "      <td>9.03%</td>\n",
       "    </tr>\n",
       "    <tr>\n",
       "      <td>6</td>\n",
       "      <td>35-39</td>\n",
       "      <td>31</td>\n",
       "      <td>5.38%</td>\n",
       "    </tr>\n",
       "    <tr>\n",
       "      <td>7</td>\n",
       "      <td>40+</td>\n",
       "      <td>12</td>\n",
       "      <td>2.08%</td>\n",
       "    </tr>\n",
       "  </tbody>\n",
       "</table>\n",
       "</div>"
      ],
      "text/plain": [
       "  Age Group  Count of Players Percent of Total Players\n",
       "0       <10                17                    2.95%\n",
       "1     10-14                22                    3.82%\n",
       "2     15-19               107                   18.58%\n",
       "3     20-24               258                   44.79%\n",
       "4     25-29                77                   13.37%\n",
       "5     30-34                52                    9.03%\n",
       "6     35-39                31                    5.38%\n",
       "7       40+                12                    2.08%"
      ]
     },
     "execution_count": 6,
     "metadata": {},
     "output_type": "execute_result"
    }
   ],
   "source": [
    "agebin = [0,9,14,19,24,29,34,39,200]\n",
    "\n",
    "age_group = ['<10','10-14','15-19','20-24','25-29','30-34','35-39','40+']\n",
    "\n",
    "purchase_data[\"Age Group\"] = pd.cut(purchase_data[\"Age\"],agebin,labels=age_group)\n",
    "\n",
    "age_Group = purchase_data.groupby(\"Age Group\")\n",
    "\n",
    "age_SN_Count = [len(x) for x in age_Group[\"SN\"].unique()]\n",
    "\n",
    "age_SN_Percent = ['{:.2f}'.format((len(x)/player_Count)*100) + '%' for x in age_Group[\"SN\"].unique()]\n",
    "\n",
    "age_char_Summary = pd.DataFrame({\"Age Group\":age_group,\n",
    "                   \"Count of Players\":age_SN_Count,\n",
    "                                \"Percent of Total Players\":age_SN_Percent})\n",
    "\n",
    "age_char_Summary\n",
    "\n",
    "\n",
    "\n",
    "\n"
   ]
  },
  {
   "cell_type": "markdown",
   "metadata": {},
   "source": [
    "## Purchasing Analysis (Age)"
   ]
  },
  {
   "cell_type": "markdown",
   "metadata": {},
   "source": [
    "* Bin the purchase_data data frame by age\n",
    "\n",
    "\n",
    "* Run basic calculations to obtain purchase count, avg. purchase price, avg. purchase total per person etc. in the table below\n",
    "\n",
    "\n",
    "* Create a summary data frame to hold the results\n",
    "\n",
    "\n",
    "* Optional: give the displayed data cleaner formatting\n",
    "\n",
    "\n",
    "* Display the summary data frame"
   ]
  },
  {
   "cell_type": "code",
   "execution_count": 7,
   "metadata": {},
   "outputs": [
    {
     "data": {
      "text/html": [
       "<div>\n",
       "<style scoped>\n",
       "    .dataframe tbody tr th:only-of-type {\n",
       "        vertical-align: middle;\n",
       "    }\n",
       "\n",
       "    .dataframe tbody tr th {\n",
       "        vertical-align: top;\n",
       "    }\n",
       "\n",
       "    .dataframe thead th {\n",
       "        text-align: right;\n",
       "    }\n",
       "</style>\n",
       "<table border=\"1\" class=\"dataframe\">\n",
       "  <thead>\n",
       "    <tr style=\"text-align: right;\">\n",
       "      <th></th>\n",
       "      <th>Number of Players</th>\n",
       "      <th>Average Price</th>\n",
       "      <th>Total Transactions</th>\n",
       "      <th>Total Revenue</th>\n",
       "    </tr>\n",
       "    <tr>\n",
       "      <th>Age Group</th>\n",
       "      <th></th>\n",
       "      <th></th>\n",
       "      <th></th>\n",
       "      <th></th>\n",
       "    </tr>\n",
       "  </thead>\n",
       "  <tbody>\n",
       "    <tr>\n",
       "      <td>&lt;10</td>\n",
       "      <td>17</td>\n",
       "      <td>$3.35</td>\n",
       "      <td>23</td>\n",
       "      <td>$77.13</td>\n",
       "    </tr>\n",
       "    <tr>\n",
       "      <td>10-14</td>\n",
       "      <td>22</td>\n",
       "      <td>$2.96</td>\n",
       "      <td>28</td>\n",
       "      <td>$82.78</td>\n",
       "    </tr>\n",
       "    <tr>\n",
       "      <td>15-19</td>\n",
       "      <td>107</td>\n",
       "      <td>$3.04</td>\n",
       "      <td>136</td>\n",
       "      <td>$412.89</td>\n",
       "    </tr>\n",
       "    <tr>\n",
       "      <td>20-24</td>\n",
       "      <td>258</td>\n",
       "      <td>$3.05</td>\n",
       "      <td>365</td>\n",
       "      <td>$1114.06</td>\n",
       "    </tr>\n",
       "    <tr>\n",
       "      <td>25-29</td>\n",
       "      <td>77</td>\n",
       "      <td>$2.90</td>\n",
       "      <td>101</td>\n",
       "      <td>$293.00</td>\n",
       "    </tr>\n",
       "    <tr>\n",
       "      <td>30-34</td>\n",
       "      <td>52</td>\n",
       "      <td>$2.93</td>\n",
       "      <td>73</td>\n",
       "      <td>$214.00</td>\n",
       "    </tr>\n",
       "    <tr>\n",
       "      <td>35-39</td>\n",
       "      <td>31</td>\n",
       "      <td>$3.60</td>\n",
       "      <td>41</td>\n",
       "      <td>$147.67</td>\n",
       "    </tr>\n",
       "    <tr>\n",
       "      <td>40+</td>\n",
       "      <td>12</td>\n",
       "      <td>$2.94</td>\n",
       "      <td>13</td>\n",
       "      <td>$38.24</td>\n",
       "    </tr>\n",
       "  </tbody>\n",
       "</table>\n",
       "</div>"
      ],
      "text/plain": [
       "           Number of Players Average Price  Total Transactions Total Revenue\n",
       "Age Group                                                                   \n",
       "<10                       17         $3.35                  23        $77.13\n",
       "10-14                     22         $2.96                  28        $82.78\n",
       "15-19                    107         $3.04                 136       $412.89\n",
       "20-24                    258         $3.05                 365      $1114.06\n",
       "25-29                     77         $2.90                 101       $293.00\n",
       "30-34                     52         $2.93                  73       $214.00\n",
       "35-39                     31         $3.60                  41       $147.67\n",
       "40+                       12         $2.94                  13        $38.24"
      ]
     },
     "execution_count": 7,
     "metadata": {},
     "output_type": "execute_result"
    }
   ],
   "source": [
    "age_Group[\"Purchase ID\"].count()\n",
    "\n",
    "age_avg = ['$'+'{:.2f}'.format(x) for x in age_Group[\"Price\"].mean()]\n",
    "\n",
    "age_rev = ['$'+'{:.2f}'.format(x) for x in age_Group[\"Price\"].sum()]\n",
    "\n",
    "age_unique = [len(x) for x in age_Group[\"SN\"].unique()]\n",
    "\n",
    "age_price_Summary = pd.DataFrame({\"Number of Players\":age_unique,\n",
    "                                \"Average Price\":age_avg,\n",
    "                                \"Total Transactions\":age_Group[\"Purchase ID\"].count(),\n",
    "                                 \"Total Revenue\": age_rev})\n",
    "age_price_Summary"
   ]
  },
  {
   "cell_type": "markdown",
   "metadata": {},
   "source": [
    "## Top Spenders"
   ]
  },
  {
   "cell_type": "markdown",
   "metadata": {},
   "source": [
    "* Run basic calculations to obtain the results in the table below\n",
    "\n",
    "\n",
    "* Create a summary data frame to hold the results\n",
    "\n",
    "\n",
    "* Sort the total purchase value column in descending order\n",
    "\n",
    "\n",
    "* Optional: give the displayed data cleaner formatting\n",
    "\n",
    "\n",
    "* Display a preview of the summary data frame\n",
    "\n"
   ]
  },
  {
   "cell_type": "code",
   "execution_count": null,
   "metadata": {},
   "outputs": [],
   "source": []
  },
  {
   "cell_type": "markdown",
   "metadata": {},
   "source": [
    "## Most Popular Items"
   ]
  },
  {
   "cell_type": "markdown",
   "metadata": {},
   "source": [
    "* Retrieve the Item ID, Item Name, and Item Price columns\n",
    "\n",
    "\n",
    "* Group by Item ID and Item Name. Perform calculations to obtain purchase count, item price, and total purchase value\n",
    "\n",
    "\n",
    "* Create a summary data frame to hold the results\n",
    "\n",
    "\n",
    "* Sort the purchase count column in descending order\n",
    "\n",
    "\n",
    "* Optional: give the displayed data cleaner formatting\n",
    "\n",
    "\n",
    "* Display a preview of the summary data frame\n",
    "\n"
   ]
  },
  {
   "cell_type": "code",
   "execution_count": null,
   "metadata": {},
   "outputs": [],
   "source": []
  },
  {
   "cell_type": "markdown",
   "metadata": {},
   "source": [
    "## Most Profitable Items"
   ]
  },
  {
   "cell_type": "markdown",
   "metadata": {},
   "source": [
    "* Sort the above table by total purchase value in descending order\n",
    "\n",
    "\n",
    "* Optional: give the displayed data cleaner formatting\n",
    "\n",
    "\n",
    "* Display a preview of the data frame\n",
    "\n"
   ]
  },
  {
   "cell_type": "code",
   "execution_count": null,
   "metadata": {
    "scrolled": true
   },
   "outputs": [],
   "source": []
  }
 ],
 "metadata": {
  "anaconda-cloud": {},
  "kernel_info": {
   "name": "python3"
  },
  "kernelspec": {
   "display_name": "Python 3",
   "language": "python",
   "name": "python3"
  },
  "language_info": {
   "codemirror_mode": {
    "name": "ipython",
    "version": 3
   },
   "file_extension": ".py",
   "mimetype": "text/x-python",
   "name": "python",
   "nbconvert_exporter": "python",
   "pygments_lexer": "ipython3",
   "version": "3.7.4"
  },
  "latex_envs": {
   "LaTeX_envs_menu_present": true,
   "autoclose": false,
   "autocomplete": true,
   "bibliofile": "biblio.bib",
   "cite_by": "apalike",
   "current_citInitial": 1,
   "eqLabelWithNumbers": true,
   "eqNumInitial": 1,
   "hotkeys": {
    "equation": "Ctrl-E",
    "itemize": "Ctrl-I"
   },
   "labels_anchors": false,
   "latex_user_defs": false,
   "report_style_numbering": false,
   "user_envs_cfg": false
  },
  "nteract": {
   "version": "0.2.0"
  }
 },
 "nbformat": 4,
 "nbformat_minor": 2
}
