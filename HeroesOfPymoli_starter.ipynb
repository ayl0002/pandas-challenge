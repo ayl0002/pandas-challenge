{
 "cells": [
  {
   "cell_type": "markdown",
   "metadata": {},
   "source": [
    "### Note\n",
    "* Instructions have been included for each segment. You do not have to follow them exactly, but they are included to help you think through the steps."
   ]
  },
  {
   "cell_type": "code",
   "execution_count": null,
   "metadata": {},
   "outputs": [],
   "source": [
    "# Dependencies and Setup\n",
    "import pandas as pd\n",
    "\n",
    "# File to Load (Remember to Change These)\n",
    "file_to_load = \"Resources/purchase_data.csv\"\n",
    "\n",
    "# Read Purchasing File and store into Pandas data frame\n",
    "purchase_data = pd.read_csv(file_to_load)"
   ]
  },
  {
   "cell_type": "markdown",
   "metadata": {},
   "source": [
    "## Player Count"
   ]
  },
  {
   "cell_type": "markdown",
   "metadata": {},
   "source": [
    "* Display the total number of players\n"
   ]
  },
  {
   "cell_type": "code",
   "execution_count": null,
   "metadata": {},
   "outputs": [],
   "source": [
    "player_Count = len(purchase_data[\"SN\"].unique())\n",
    "\n",
    "f'There are {player_Count} total players.'"
   ]
  },
  {
   "cell_type": "markdown",
   "metadata": {},
   "source": [
    "## Purchasing Analysis (Total)"
   ]
  },
  {
   "cell_type": "markdown",
   "metadata": {},
   "source": [
    "* Run basic calculations to obtain number of unique items, average price, etc.\n",
    "\n",
    "\n",
    "* Create a summary data frame to hold the results\n",
    "\n",
    "\n",
    "* Optional: give the displayed data cleaner formatting\n",
    "\n",
    "\n",
    "* Display the summary data frame\n"
   ]
  },
  {
   "cell_type": "code",
   "execution_count": null,
   "metadata": {
    "scrolled": true
   },
   "outputs": [],
   "source": [
    "item_count = len(purchase_data[\"Item ID\"].unique())\n",
    "avg_Price =  round(purchase_data[\"Price\"].mean(),2)\n",
    "total_Buy = purchase_data[\"Item ID\"].count()\n",
    "total_Rev = round(purchase_data[\"Price\"].sum(),2)\n",
    "\n",
    "purchase_summary = pd.DataFrame({\"# of Unique Items\" : [item_count],\n",
    "                                \"Average Price of all Items\" : \"$\" + '{:.2f}'.format(avg_Price),\n",
    "                                \"Total Transactions\" : total_Buy,\n",
    "                                \"Total Revenue\" : \"$\" + '{:.2f}'.format(total_Rev)})\n",
    "                               \n",
    "\n",
    "purchase_summary\n",
    "\n",
    "\n"
   ]
  },
  {
   "cell_type": "markdown",
   "metadata": {},
   "source": [
    "## Gender Demographics"
   ]
  },
  {
   "cell_type": "markdown",
   "metadata": {},
   "source": [
    "* Percentage and Count of Male Players\n",
    "\n",
    "\n",
    "* Percentage and Count of Female Players\n",
    "\n",
    "\n",
    "* Percentage and Count of Other / Non-Disclosed\n",
    "\n",
    "\n"
   ]
  },
  {
   "cell_type": "code",
   "execution_count": null,
   "metadata": {},
   "outputs": [],
   "source": [
    "male_df = pd.DataFrame(purchase_data.loc[purchase_data[\"Gender\"] == \"Male\"])\n",
    "\n",
    "female_df = pd.DataFrame(purchase_data.loc[purchase_data[\"Gender\"] == \"Female\"])\n",
    "\n",
    "other_df = pd.DataFrame(purchase_data.loc[purchase_data[\"Gender\"] == \"Other / Non-Disclosed\"])\n",
    "\n",
    "male_Count = len(male_df[\"SN\"].unique())\n",
    "\n",
    "female_Count = len(female_df[\"SN\"].unique())\n",
    "\n",
    "other_Count = len(other_df[\"SN\"].unique())\n",
    "\n",
    "total_Count = male_Count + female_Count + other_Count\n",
    "\n",
    "\n",
    "gender_summary = pd.DataFrame({\"Male\" : [male_Count,str(round(((male_Count / player_Count) * 100),2)) + '%'],\n",
    "                             \"Female\" : [female_Count,str(round(((female_Count / player_Count) * 100),2)) + '%'],\n",
    "                             \"Other / Non-Disclosed\" : [other_Count,str(round(((other_Count / player_Count) * 100),2)) + '%'],\n",
    "                              \"Total\" : [(male_Count + female_Count + other_Count),str(round(((male_Count + female_Count + other_Count)/player_Count)*100,2)) + '%']})\n",
    "\n",
    "gender_summary\n",
    "\n",
    "\n"
   ]
  },
  {
   "cell_type": "markdown",
   "metadata": {},
   "source": [
    "\n",
    "## Purchasing Analysis (Gender)"
   ]
  },
  {
   "cell_type": "markdown",
   "metadata": {},
   "source": [
    "* Run basic calculations to obtain purchase count, avg. purchase price, avg. purchase total per person etc. by gender\n",
    "\n",
    "\n",
    "\n",
    "\n",
    "* Create a summary data frame to hold the results\n",
    "\n",
    "\n",
    "* Optional: give the displayed data cleaner formatting\n",
    "\n",
    "\n",
    "* Display the summary data frame"
   ]
  },
  {
   "cell_type": "code",
   "execution_count": null,
   "metadata": {},
   "outputs": [],
   "source": [
    "male_count = len(male_df[\"SN\"].unique())\n",
    "male_Price =  round(male_df[\"Price\"].mean(),2)\n",
    "male_Buy = male_df[\"Item ID\"].count()\n",
    "male_Rev = round(male_df[\"Price\"].sum(),2)\n",
    "male_Price_Average = round(male_Rev/male_count,2)\n",
    "\n",
    "female_count = len(female_df[\"SN\"].unique())\n",
    "female_Price =  round(female_df[\"Price\"].mean(),2)\n",
    "female_Buy = female_df[\"Item ID\"].count()\n",
    "female_Rev = round(female_df[\"Price\"].sum(),2)\n",
    "female_Price_Average = round(female_Rev/female_count,2)\n",
    "\n",
    "other_count = len(other_df[\"SN\"].unique())\n",
    "other_Price =  round(other_df[\"Price\"].mean(),2)\n",
    "other_Buy = other_df[\"Item ID\"].count()\n",
    "other_Rev = round(other_df[\"Price\"].sum(),2)\n",
    "other_Price_Average = round(other_Rev/other_count,2)\n",
    "\n",
    "gender_transactions = pd.DataFrame({\"Gender\":[\"Total Players\",\"Average Price\",\"Total Transactions\",\"Total Revenue\",\"Average Purchase Total Per Person\"],\n",
    "                                \"Male\":[int(male_count),'$' + '{:.2f}'.format(male_Price),int(male_Buy),'$' + '{:.2f}'.format(male_Rev),'$' + '{:.2f}'.format(male_Price_Average)],\n",
    "                                   \"Female\":[int(female_count),'$' + '{:.2f}'.format(female_Price),int(female_Buy),'$' + '{:.2f}'.format(female_Rev),'$' + '{:.2f}'.format(female_Price_Average)],\n",
    "                                   \"Other / Non-Disclosed\":[int(other_count),'$' + '{:.2f}'.format(other_Price),int(other_Buy),'$' + '{:.2f}'.format(other_Rev),'$' + '{:.2f}'.format(other_Price_Average)]\n",
    "                                 })\n",
    "\n",
    "gender_transactions"
   ]
  },
  {
   "cell_type": "markdown",
   "metadata": {},
   "source": [
    "## Age Demographics"
   ]
  },
  {
   "cell_type": "markdown",
   "metadata": {},
   "source": [
    "* Establish bins for ages\n",
    "\n",
    "\n",
    "* Categorize the existing players using the age bins. Hint: use pd.cut()\n",
    "\n",
    "\n",
    "* Calculate the numbers and percentages by age group\n",
    "\n",
    "\n",
    "* Create a summary data frame to hold the results\n",
    "\n",
    "\n",
    "* Optional: round the percentage column to two decimal points\n",
    "\n",
    "\n",
    "* Display Age Demographics Table\n"
   ]
  },
  {
   "cell_type": "code",
   "execution_count": null,
   "metadata": {},
   "outputs": [],
   "source": [
    "agebin = [0,9,14,19,24,29,34,39,200]\n",
    "\n",
    "age_group = ['<10','10-14','15-19','20-24','25-29','30-34','35-39','40+']\n",
    "\n",
    "purchase_data[\"Age Group\"] = pd.cut(purchase_data[\"Age\"],agebin,labels=age_group)\n",
    "\n",
    "age_Group = purchase_data.groupby(\"Age Group\")\n",
    "\n",
    "age_SN_Count = [len(x) for x in age_Group[\"SN\"].unique()]\n",
    "\n",
    "age_SN_Percent = ['{:.2f}'.format((len(x)/player_Count)*100) + '%' for x in age_Group[\"SN\"].unique()]\n",
    "\n",
    "age_char_Summary = pd.DataFrame({\"Age Group\":age_group,\n",
    "                   \"Count of Players\":age_SN_Count,\n",
    "                                \"Percent of Total Players\":age_SN_Percent})\n",
    "\n",
    "age_char_Summary\n",
    "\n",
    "\n",
    "\n",
    "\n"
   ]
  },
  {
   "cell_type": "markdown",
   "metadata": {},
   "source": [
    "## Purchasing Analysis (Age)"
   ]
  },
  {
   "cell_type": "markdown",
   "metadata": {},
   "source": [
    "* Bin the purchase_data data frame by age\n",
    "\n",
    "\n",
    "* Run basic calculations to obtain purchase count, avg. purchase price, avg. purchase total per person etc. in the table below\n",
    "\n",
    "\n",
    "* Create a summary data frame to hold the results\n",
    "\n",
    "\n",
    "* Optional: give the displayed data cleaner formatting\n",
    "\n",
    "\n",
    "* Display the summary data frame"
   ]
  },
  {
   "cell_type": "code",
   "execution_count": null,
   "metadata": {},
   "outputs": [],
   "source": [
    "age_Group[\"Purchase ID\"].count()\n",
    "\n",
    "age_avg = ['$'+'{:.2f}'.format(x) for x in age_Group[\"Price\"].mean()]\n",
    "\n",
    "age_rev = ['$'+'{:.2f}'.format(x) for x in age_Group[\"Price\"].sum()]\n",
    "\n",
    "age_rev_raw = age_Group[\"Price\"].mean()\n",
    "\n",
    "age_unique = [len(x) for x in age_Group[\"SN\"].unique()]\n",
    "\n",
    "age_price_Summary = pd.DataFrame({\"Number of Players\":age_unique,\n",
    "                                \"Average Price\":age_avg,\n",
    "                                \"Total Transactions\":age_Group[\"Purchase ID\"].count(),\n",
    "                                 \"Total Revenue\": age_rev})\n",
    "age_price_Summary\n"
   ]
  },
  {
   "cell_type": "markdown",
   "metadata": {},
   "source": [
    "## Top Spenders"
   ]
  },
  {
   "cell_type": "markdown",
   "metadata": {},
   "source": [
    "* Run basic calculations to obtain the results in the table below\n",
    "\n",
    "\n",
    "* Create a summary data frame to hold the results\n",
    "\n",
    "\n",
    "* Sort the total purchase value column in descending order\n",
    "\n",
    "\n",
    "* Optional: give the displayed data cleaner formatting\n",
    "\n",
    "\n",
    "* Display a preview of the summary data frame\n",
    "\n"
   ]
  },
  {
   "cell_type": "code",
   "execution_count": null,
   "metadata": {},
   "outputs": [],
   "source": [
    "spender_Group = purchase_data.groupby(\"SN\")\n",
    "\n",
    "spender_Total = pd.DataFrame(spender_Group['Price'].sum())\n",
    "\n",
    "\n",
    "top_five_spender = spender_Total.sort_values(by=['Price'],ascending = False).head(5)\n",
    "\n",
    "top_five_spender = pd.merge(top_five_spender,purchase_data,left_on='SN',right_on='SN')\n",
    "\n",
    "top_five_spender[\"SN\"].value_counts()\n",
    "\n",
    "spender_Summary = pd.DataFrame({\"Purchase Count\":top_five_spender[\"SN\"].value_counts(),\n",
    "                               \"Total Purchase Value\":top_five_spender[\"Price_x\"].unique()\n",
    "                               })\n",
    "\n",
    "spender_Summary \n",
    "\n",
    "spender_Count = top_five_spender[\"SN\"].value_counts()\n",
    "\n",
    "\n",
    "\n",
    "spender_Count[\"Lisosia93\"]\n",
    "\n",
    "spender_Amount = top_five_spender[\"Price_x\"].unique()\n",
    "\n",
    "spender_Amount\n",
    "\n",
    "spender_Count\n",
    "\n",
    "spender_Summary = pd.DataFrame({\"Purchase Count\":top_five_spender[\"SN\"].value_counts(),\n",
    "                               \"Total Purchase Value\":top_five_spender[\"Price_x\"].unique(),\n",
    "                               \"Spender Average\":['$'+'{:.2f}'.format(spender_Amount[0] / spender_Count[\"Lisosia93\"]),\n",
    "                  '$'+'{:.2f}'.format(spender_Amount[1]/  spender_Count[\"Idastidru52\"]),\n",
    "            '$'+'{:.2f}'.format(spender_Amount[2] / spender_Count[\"Iral74\"]),\n",
    "                   '$'+'{:.2f}'.format(spender_Amount[3] / spender_Count[\"Iskadarya95\"]),\n",
    "           '$'+'{:.2f}'.format(spender_Amount[4]/ spender_Count[\"Chamjask73\"])]})\n",
    "\n",
    "\n",
    "spender_Summary"
   ]
  },
  {
   "cell_type": "markdown",
   "metadata": {},
   "source": [
    "## Most Popular Items"
   ]
  },
  {
   "cell_type": "markdown",
   "metadata": {},
   "source": [
    "* Retrieve the Item ID, Item Name, and Item Price columns\n",
    "\n",
    "\n",
    "* Group by Item ID and Item Name. Perform calculations to obtain purchase count, item price, and total purchase value\n",
    "\n",
    "\n",
    "* Create a summary data frame to hold the results\n",
    "\n",
    "\n",
    "* Sort the purchase count column in descending order\n",
    "\n",
    "\n",
    "* Optional: give the displayed data cleaner formatting\n",
    "\n",
    "\n",
    "* Display a preview of the summary data frame\n",
    "\n"
   ]
  },
  {
   "cell_type": "code",
   "execution_count": null,
   "metadata": {},
   "outputs": [],
   "source": [
    "\n",
    "item_group = purchase_data.groupby(['Item Name','Item ID'])\n",
    "\n",
    "\n",
    "item_count = pd.DataFrame(item_group['Price'].value_counts())\n",
    "\n",
    "item_total = pd.DataFrame(item_group['Price'].sum())\n",
    "\n",
    "item_price = pd.DataFrame(item_group['Price'].unique())\n",
    "\n",
    "item_summary = pd.merge(item_count,item_total,left_on=['Item Name','Item ID'],right_on=['Item Name','Item ID'])\n",
    "\n",
    "item_summary = pd.merge(item_count,item_total,left_on=['Item Name','Item ID'],right_on=['Item Name','Item ID'])\n",
    "\n",
    "item_summary = pd.merge(item_summary,item_price,left_on=['Item Name','Item ID'],right_on=['Item Name','Item ID'])\n",
    "\n",
    "top_five_items_count = item_summary.sort_values(by=['Price_x'],ascending = False).head(5)\n",
    "\n",
    "top_five_items_count\n",
    "\n",
    "top_five_items_count_renamed = top_five_items_count.rename(columns = {\"Price_x\":\"# of Purchases\",\n",
    "                                                         \"Price_y\":\"Total Purchase Value\",\n",
    "                                                         \"Price\":\"Item Price\"})\n",
    "\n",
    "top_five_items_count_renamed\n"
   ]
  },
  {
   "cell_type": "markdown",
   "metadata": {},
   "source": [
    "## Most Profitable Items"
   ]
  },
  {
   "cell_type": "markdown",
   "metadata": {},
   "source": [
    "* Sort the above table by total purchase value in descending order\n",
    "\n",
    "\n",
    "* Optional: give the displayed data cleaner formatting\n",
    "\n",
    "\n",
    "* Display a preview of the data frame\n",
    "\n"
   ]
  },
  {
   "cell_type": "code",
   "execution_count": null,
   "metadata": {
    "scrolled": true
   },
   "outputs": [],
   "source": [
    "top_five_items_rev = item_summary.sort_values(by=['Price_y'],ascending = False).head(5)\n",
    "\n",
    "top_five_items_rev\n",
    "\n",
    "top_five_items_rev_renamed = top_five_items_rev.rename(columns = {\"Price_x\":\"# of Purchases\",\n",
    "                                                         \"Price_y\":\"Total Purchase Value\",\n",
    "                                                         \"Price\":\"Item Price\"})\n",
    "\n",
    "top_five_items_rev_renamed"
   ]
  },
  {
   "cell_type": "code",
   "execution_count": null,
   "metadata": {},
   "outputs": [],
   "source": []
  },
  {
   "cell_type": "code",
   "execution_count": null,
   "metadata": {},
   "outputs": [],
   "source": []
  }
 ],
 "metadata": {
  "anaconda-cloud": {},
  "kernel_info": {
   "name": "python3"
  },
  "kernelspec": {
   "display_name": "Python 3",
   "language": "python",
   "name": "python3"
  },
  "language_info": {
   "codemirror_mode": {
    "name": "ipython",
    "version": 3
   },
   "file_extension": ".py",
   "mimetype": "text/x-python",
   "name": "python",
   "nbconvert_exporter": "python",
   "pygments_lexer": "ipython3",
   "version": "3.7.4"
  },
  "latex_envs": {
   "LaTeX_envs_menu_present": true,
   "autoclose": false,
   "autocomplete": true,
   "bibliofile": "biblio.bib",
   "cite_by": "apalike",
   "current_citInitial": 1,
   "eqLabelWithNumbers": true,
   "eqNumInitial": 1,
   "hotkeys": {
    "equation": "Ctrl-E",
    "itemize": "Ctrl-I"
   },
   "labels_anchors": false,
   "latex_user_defs": false,
   "report_style_numbering": false,
   "user_envs_cfg": false
  },
  "nteract": {
   "version": "0.2.0"
  }
 },
 "nbformat": 4,
 "nbformat_minor": 2
}
