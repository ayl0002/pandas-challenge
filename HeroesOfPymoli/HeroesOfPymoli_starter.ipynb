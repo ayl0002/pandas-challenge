{
 "cells": [
  {
   "cell_type": "markdown",
   "metadata": {},
   "source": [
    "### Note\n",
    "* Instructions have been included for each segment. You do not have to follow them exactly, but they are included to help you think through the steps."
   ]
  },
  {
   "cell_type": "code",
   "execution_count": 1,
   "metadata": {},
   "outputs": [],
   "source": [
    "# Dependencies and Setup\n",
    "import pandas as pd\n",
    "\n",
    "from decimal import *\n",
    "getcontext().prec = 2\n",
    "\n",
    "# File to Load (Remember to Change These)\n",
    "file_to_load = \"Resources/purchase_data.csv\"\n",
    "\n",
    "# Read Purchasing File and store into Pandas data frame\n",
    "purchase_data = pd.read_csv(file_to_load)"
   ]
  },
  {
   "cell_type": "markdown",
   "metadata": {},
   "source": [
    "## Player Count"
   ]
  },
  {
   "cell_type": "markdown",
   "metadata": {},
   "source": [
    "* Display the total number of players\n"
   ]
  },
  {
   "cell_type": "code",
   "execution_count": 2,
   "metadata": {},
   "outputs": [
    {
     "name": "stdout",
     "output_type": "stream",
     "text": [
      "There are 576 total players.\n"
     ]
    }
   ],
   "source": [
    "player_Count = len(purchase_data[\"SN\"].unique())\n",
    "\n",
    "print(f'There are {player_Count} total players.')"
   ]
  },
  {
   "cell_type": "markdown",
   "metadata": {},
   "source": [
    "## Purchasing Analysis (Total)"
   ]
  },
  {
   "cell_type": "markdown",
   "metadata": {},
   "source": [
    "* Run basic calculations to obtain number of unique items, average price, etc.\n",
    "\n",
    "\n",
    "* Create a summary data frame to hold the results\n",
    "\n",
    "\n",
    "* Optional: give the displayed data cleaner formatting\n",
    "\n",
    "\n",
    "* Display the summary data frame\n"
   ]
  },
  {
   "cell_type": "code",
   "execution_count": 3,
   "metadata": {
    "scrolled": true
   },
   "outputs": [
    {
     "name": "stdout",
     "output_type": "stream",
     "text": [
      "   # of Unique Items Average Price of all Items  Total Transactions  \\\n",
      "0                183                      $3.05                 780   \n",
      "\n",
      "  Total Revenue  \n",
      "0      $2379.77  \n"
     ]
    }
   ],
   "source": [
    "item_count = len(purchase_data[\"Item ID\"].unique())\n",
    "avg_Price =  round(purchase_data[\"Price\"].mean(),2)\n",
    "total_Buy = purchase_data[\"Item ID\"].count()\n",
    "total_Rev = round(purchase_data[\"Price\"].sum(),2)\n",
    "\n",
    "purchase_summary = pd.DataFrame({\"# of Unique Items\" : [item_count],\n",
    "                                \"Average Price of all Items\" : \"$\" + str(avg_Price),\n",
    "                                \"Total Transactions\" : total_Buy,\n",
    "                                \"Total Revenue\" : \"$\" + str(total_Rev)})\n",
    "                               \n",
    "\n",
    "print(purchase_summary)\n",
    "\n",
    "\n"
   ]
  },
  {
   "cell_type": "markdown",
   "metadata": {},
   "source": [
    "## Gender Demographics"
   ]
  },
  {
   "cell_type": "markdown",
   "metadata": {},
   "source": [
    "* Percentage and Count of Male Players\n",
    "\n",
    "\n",
    "* Percentage and Count of Female Players\n",
    "\n",
    "\n",
    "* Percentage and Count of Other / Non-Disclosed\n",
    "\n",
    "\n"
   ]
  },
  {
   "cell_type": "code",
   "execution_count": 4,
   "metadata": {},
   "outputs": [
    {
     "name": "stdout",
     "output_type": "stream",
     "text": [
      "     Male  Female Other / Non-Disclosed   Total\n",
      "0     484      81                    11     576\n",
      "1  84.03%  14.06%                 1.91%  100.0%\n"
     ]
    }
   ],
   "source": [
    "male_df = pd.DataFrame(purchase_data.loc[purchase_data[\"Gender\"] == \"Male\"])\n",
    "\n",
    "female_df = pd.DataFrame(purchase_data.loc[purchase_data[\"Gender\"] == \"Female\"])\n",
    "\n",
    "other_df = pd.DataFrame(purchase_data.loc[purchase_data[\"Gender\"] == \"Other / Non-Disclosed\"])\n",
    "\n",
    "male_Count = len(male_df[\"SN\"].unique())\n",
    "\n",
    "female_Count = len(female_df[\"SN\"].unique())\n",
    "\n",
    "other_Count = len(other_df[\"SN\"].unique())\n",
    "\n",
    "total_Count = male_Count + female_Count + other_Count\n",
    "\n",
    "\n",
    "gender_summary = pd.DataFrame({\"Male\" : [male_Count,str(round(((male_Count / player_Count) * 100),2)) + '%'],\n",
    "                             \"Female\" : [female_Count,str(round(((female_Count / player_Count) * 100),2)) + '%'],\n",
    "                             \"Other / Non-Disclosed\" : [other_Count,str(round(((other_Count / player_Count) * 100),2)) + '%'],\n",
    "                              \"Total\" : [(male_Count + female_Count + other_Count),str(round(((male_Count + female_Count + other_Count)/player_Count)*100,2)) + '%']})\n",
    "\n",
    "print(gender_summary)\n",
    "\n",
    "\n"
   ]
  },
  {
   "cell_type": "markdown",
   "metadata": {},
   "source": [
    "\n",
    "## Purchasing Analysis (Gender)"
   ]
  },
  {
   "cell_type": "markdown",
   "metadata": {},
   "source": [
    "* Run basic calculations to obtain purchase count, avg. purchase price, avg. purchase total per person etc. by gender\n",
    "\n",
    "\n",
    "\n",
    "\n",
    "* Create a summary data frame to hold the results\n",
    "\n",
    "\n",
    "* Optional: give the displayed data cleaner formatting\n",
    "\n",
    "\n",
    "* Display the summary data frame"
   ]
  },
  {
   "cell_type": "code",
   "execution_count": 6,
   "metadata": {},
   "outputs": [
    {
     "name": "stdout",
     "output_type": "stream",
     "text": [
      "               Gender      Male   Female\n",
      "0   # of Unique Items       182       90\n",
      "1       Average Price     $3.02     $3.2\n",
      "2  Total Transactions       652      113\n",
      "3         Total Renue  $1967.64  $361.94\n"
     ]
    }
   ],
   "source": [
    "male_count = len(male_df[\"Item ID\"].unique())\n",
    "male_Price =  round(male_df[\"Price\"].mean(),2)\n",
    "male_Buy = male_df[\"Item ID\"].count()\n",
    "male_Rev = round(male_df[\"Price\"].sum(),2)\n",
    "\n",
    "female_count = len(female_df[\"Item ID\"].unique())\n",
    "female_Price =  Decimal(round(female_df[\"Price\"].mean(),2))\n",
    "female_Buy = female_df[\"Item ID\"].count()\n",
    "female_Rev = round(female_df[\"Price\"].sum(),2)\n",
    "\n",
    "gender_transactions = pd.DataFrame({\"Gender\":[\"# of Unique Items\",\"Average Price\",\"Total Transactions\",\"Total Renue\"],\n",
    "                                \"Male\":[int(male_count),'$' + str(male_Price),int(male_Buy),'$' + str(male_Rev)],\n",
    "                                   \"Female\":[int(female_count),'$' + str(float(female_Price)),int(female_Buy),'$' + str(female_Rev)]})\n",
    "\n",
    "print(gender_transactions)"
   ]
  },
  {
   "cell_type": "markdown",
   "metadata": {},
   "source": [
    "## Age Demographics"
   ]
  },
  {
   "cell_type": "markdown",
   "metadata": {},
   "source": [
    "* Establish bins for ages\n",
    "\n",
    "\n",
    "* Categorize the existing players using the age bins. Hint: use pd.cut()\n",
    "\n",
    "\n",
    "* Calculate the numbers and percentages by age group\n",
    "\n",
    "\n",
    "* Create a summary data frame to hold the results\n",
    "\n",
    "\n",
    "* Optional: round the percentage column to two decimal points\n",
    "\n",
    "\n",
    "* Display Age Demographics Table\n"
   ]
  },
  {
   "cell_type": "code",
   "execution_count": null,
   "metadata": {},
   "outputs": [],
   "source": []
  },
  {
   "cell_type": "markdown",
   "metadata": {},
   "source": [
    "## Purchasing Analysis (Age)"
   ]
  },
  {
   "cell_type": "markdown",
   "metadata": {},
   "source": [
    "* Bin the purchase_data data frame by age\n",
    "\n",
    "\n",
    "* Run basic calculations to obtain purchase count, avg. purchase price, avg. purchase total per person etc. in the table below\n",
    "\n",
    "\n",
    "* Create a summary data frame to hold the results\n",
    "\n",
    "\n",
    "* Optional: give the displayed data cleaner formatting\n",
    "\n",
    "\n",
    "* Display the summary data frame"
   ]
  },
  {
   "cell_type": "code",
   "execution_count": null,
   "metadata": {},
   "outputs": [],
   "source": []
  },
  {
   "cell_type": "markdown",
   "metadata": {},
   "source": [
    "## Top Spenders"
   ]
  },
  {
   "cell_type": "markdown",
   "metadata": {},
   "source": [
    "* Run basic calculations to obtain the results in the table below\n",
    "\n",
    "\n",
    "* Create a summary data frame to hold the results\n",
    "\n",
    "\n",
    "* Sort the total purchase value column in descending order\n",
    "\n",
    "\n",
    "* Optional: give the displayed data cleaner formatting\n",
    "\n",
    "\n",
    "* Display a preview of the summary data frame\n",
    "\n"
   ]
  },
  {
   "cell_type": "code",
   "execution_count": null,
   "metadata": {},
   "outputs": [],
   "source": []
  },
  {
   "cell_type": "markdown",
   "metadata": {},
   "source": [
    "## Most Popular Items"
   ]
  },
  {
   "cell_type": "markdown",
   "metadata": {},
   "source": [
    "* Retrieve the Item ID, Item Name, and Item Price columns\n",
    "\n",
    "\n",
    "* Group by Item ID and Item Name. Perform calculations to obtain purchase count, item price, and total purchase value\n",
    "\n",
    "\n",
    "* Create a summary data frame to hold the results\n",
    "\n",
    "\n",
    "* Sort the purchase count column in descending order\n",
    "\n",
    "\n",
    "* Optional: give the displayed data cleaner formatting\n",
    "\n",
    "\n",
    "* Display a preview of the summary data frame\n",
    "\n"
   ]
  },
  {
   "cell_type": "code",
   "execution_count": null,
   "metadata": {},
   "outputs": [],
   "source": []
  },
  {
   "cell_type": "markdown",
   "metadata": {},
   "source": [
    "## Most Profitable Items"
   ]
  },
  {
   "cell_type": "markdown",
   "metadata": {},
   "source": [
    "* Sort the above table by total purchase value in descending order\n",
    "\n",
    "\n",
    "* Optional: give the displayed data cleaner formatting\n",
    "\n",
    "\n",
    "* Display a preview of the data frame\n",
    "\n"
   ]
  },
  {
   "cell_type": "code",
   "execution_count": null,
   "metadata": {
    "scrolled": true
   },
   "outputs": [],
   "source": []
  }
 ],
 "metadata": {
  "anaconda-cloud": {},
  "kernel_info": {
   "name": "python3"
  },
  "kernelspec": {
   "display_name": "Python 3",
   "language": "python",
   "name": "python3"
  },
  "language_info": {
   "codemirror_mode": {
    "name": "ipython",
    "version": 3
   },
   "file_extension": ".py",
   "mimetype": "text/x-python",
   "name": "python",
   "nbconvert_exporter": "python",
   "pygments_lexer": "ipython3",
   "version": "3.7.4"
  },
  "latex_envs": {
   "LaTeX_envs_menu_present": true,
   "autoclose": false,
   "autocomplete": true,
   "bibliofile": "biblio.bib",
   "cite_by": "apalike",
   "current_citInitial": 1,
   "eqLabelWithNumbers": true,
   "eqNumInitial": 1,
   "hotkeys": {
    "equation": "Ctrl-E",
    "itemize": "Ctrl-I"
   },
   "labels_anchors": false,
   "latex_user_defs": false,
   "report_style_numbering": false,
   "user_envs_cfg": false
  },
  "nteract": {
   "version": "0.2.0"
  }
 },
 "nbformat": 4,
 "nbformat_minor": 2
}
